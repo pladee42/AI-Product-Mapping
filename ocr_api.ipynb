{
 "cells": [
  {
   "cell_type": "code",
   "execution_count": 1,
   "metadata": {},
   "outputs": [],
   "source": [
    "import requests\n",
    "import pandas as pd\n",
    "from dotenv import load_dotenv\n",
    "import os\n",
    "import time"
   ]
  },
  {
   "cell_type": "code",
   "execution_count": 8,
   "metadata": {},
   "outputs": [],
   "source": [
    "load_dotenv(override=True)\n",
    "bzbs_endpoint = os.getenv('BZBS_ENDPOINT')\n",
    "bzbs_blob = os.getenv('BZBS_BLOB_URL')"
   ]
  },
  {
   "cell_type": "code",
   "execution_count": 9,
   "metadata": {},
   "outputs": [],
   "source": [
    "#APIs\n",
    "add_api = bzbs_endpoint + \"demo/add\"\n",
    "detail_api = bzbs_endpoint + \"demo/detail\""
   ]
  },
  {
   "cell_type": "code",
   "execution_count": 14,
   "metadata": {},
   "outputs": [
    {
     "data": {
      "text/plain": [
       "'https://devstoragebuzzebees.blob.core.windows.net/miniluckydraw/AzureOcr/BZB_24060712-page1.jpg'"
      ]
     },
     "execution_count": 14,
     "metadata": {},
     "output_type": "execute_result"
    }
   ],
   "source": [
    "bzbs_blob + 'BZB_24060712-page1.jpg'"
   ]
  },
  {
   "cell_type": "markdown",
   "metadata": {},
   "source": [
    "## VENDOR DATA"
   ]
  },
  {
   "cell_type": "markdown",
   "metadata": {},
   "source": [
    "#### REQUEST OCR APIs"
   ]
  },
  {
   "cell_type": "code",
   "execution_count": 20,
   "metadata": {},
   "outputs": [],
   "source": [
    "def add_file_api(file_name):\n",
    "    body = {\n",
    "        \"FileUrl\": bzbs_blob + file_name\n",
    "        }\n",
    "\n",
    "    response = requests.post(add_api, json=body)\n",
    "\n",
    "    if response.status_code == 200:\n",
    "        # Parse the JSON response\n",
    "        data = response.json()\n",
    "        file_id = data[\"Data\"][\"DocumentReferenceId\"]\n",
    "        return file_id\n",
    "\n",
    "    else:\n",
    "        # If the request failed, print the status code and the response text\n",
    "        print(f\"Request failed with status code {response.status_code}\")\n",
    "        return response.text"
   ]
  },
  {
   "cell_type": "code",
   "execution_count": 31,
   "metadata": {},
   "outputs": [],
   "source": [
    "def detail_file_file(file_id):\n",
    "    params = {\n",
    "        \"DocumentRefernceId\": file_id\n",
    "        }\n",
    "\n",
    "    response = requests.get(detail_api, params=params)\n",
    "\n",
    "    if response.status_code == 200:\n",
    "        # Parse the JSON response\n",
    "        data = response.json()\n",
    "\n",
    "        if data[\"Data\"][\"DocumentStatus\"] == 'pending':\n",
    "            time.sleep(0.5)\n",
    "            return detail_file_file(file_id)\n",
    "        else:\n",
    "            content = data[\"Data\"][\"Content\"]\n",
    "            return content\n",
    "        \n",
    "    else:\n",
    "        # If the request failed, print the status code and the response text\n",
    "        print(f\"Request failed with status code {response.status_code}\")\n",
    "        return response.text"
   ]
  },
  {
   "cell_type": "code",
   "execution_count": 34,
   "metadata": {},
   "outputs": [
    {
     "data": {
      "text/plain": [
       "'01.07.2024 23:59:57\\n1/ 3\\nLP.One Company Ltd.\\nPicking List (3221)\\nPicking List No. 2106036229\\nRemark : + PO Tiktok_48.67 ส่งสินค้าวันที่ 02.07,2024 เวลา 13:00น.\\nAddress : UP E-Commerce (Tiltok) 41/71-73 คลังสินค้า โชติธนวัฒน์ 2 ต.บางโฉลง อ.บางพลี จ.สมุทรปราการ 10540\\nลำดับ รหัสสินค้า ชื่อสินค้า\\nชิ้น ชิ้น/ทีบ ฟืน ชิ้น น้ำหนัก/หีบ น้ำหนักรวม\\n1\\n1101155228 วิกซอล โกลด์ 900 (2+1)\\n12\\n12\\n1\\n12.50\\n12.50\\n2\\n1102043121 วิกซอล ออกซี่ มิ้นท์ 700 มล. 35\\n12\\n12\\n1\\n9.80\\n9.80\\n3\\n1201033318\\nวิช-ถูพื้น ทรีดี ชมพู 650 ซอง\\n12\\n12\\n1\\n8.50\\n8.50\\n4\\n1201053312 วิช-ถูพื้น ทรีดี ฟ้า 650 ซอง\\n12\\n12\\n1\\n8.50\\n8.50\\n5\\n1201133155 วิช-ถูพื้น เนเจอร์ ชมพู 5200\\n4\\n4\\n1\\n21.90\\n21.90\\n6\\n1301033361 ไฮยีน-บลีช ชมพู 1500\\n6\\n6\\n1\\n11.20\\n11.20\\n7\\n1302043299\\nไฮยีน-บลิชผ้าสี 1000\\n12\\n12\\n1\\n13.90\\n13.90\\n8\\n1303053559\\nไฮยีน ปากกาขจัดคราบ ฟ้า 10\\n24\\n12\\n2\\n0.30\\n0.60\\n9\\n1307023536\\nไฮยีน ซักค้า ฟอร์เอเวอร์ บลูม 1400\\n8\\n8\\n1\\n12.40\\n12.40\\n10\\n1307033724 ไฮยีนซักผ้า เลิฟลี่ 2800\\n8\\n4\\n2\\n12.70\\n25.40\\n11\\n1307034472 ไฮยีนซักค้า เลิฟลี่ 600 แพ็คคู่\\n12\\n12\\n1\\n8.00\\n8.00\\n12\\n1307054470 ไขยืนซักค้า ซันคิส 600 แพ็คคู่\\n12\\n12\\n1\\n8.00\\n8.00\\n13\\n1307134477 ไฮยีนซักต้า เนเจอร์ซันไรส์ 600 แพ็คคู่\\n12\\n12\\n1\\n8.00\\n8.00\\n14\\n1307164215 ไฮยีนซักค้า มิราเคิล 600 แพ็คคู่\\n12\\n12\\n1\\n8.00\\n8.00\\n15\\n1307223430\\nไฮยีนซักผ้า กันสีตก บูเก้ เฟรช 1300\\n3,000\\n8\\n375\\n11.60\\n4,350.00\\n16\\n1315013704 ไฮยีน-ปรับผ้านุ่ม ขาว 2800\\n4\\n4\\n1\\n12.20\\n12.20\\n17\\n1315023716 ไฮยีน-ปรับผ้านุ่ม แดง 2800\\n4\\n4\\n1\\n12.20\\n12.20\\n18\\n1315033715 ไขยืน-ปรับผ้านุ่ม ชมพู 2800\\n4\\n4\\n1\\n12.20\\n12.20\\n19\\n1315053709 ไฮยีน-ปรับผ้านุ่ม ฟ้า 2800\\n4\\n4\\n1\\n12.20\\n12.20\\nตรวจนับสินค้าถูกต้องแล้ว(Checkcer)\\nตรวจนับสินค้าถูกต้องแล้ว(ขนส่ง)\\nalnes\\nผู้รับสินค้า\\nทะเบียนรถ ฯ- - 68 /2\\nเวลา 02\\nวันที่ 02 To7/64'"
      ]
     },
     "execution_count": 34,
     "metadata": {},
     "output_type": "execute_result"
    }
   ],
   "source": [
    "file_id = add_file_api(\"BZB_24060712-page1.jpg\")\n",
    "\n",
    "content = detail_file_file(file_id)\n",
    "content"
   ]
  },
  {
   "cell_type": "code",
   "execution_count": 4,
   "metadata": {},
   "outputs": [],
   "source": [
    "f1 = pd.read_csv('output/hygeine_stock.csv_result.csv',encoding='utf-8')\n",
    "f2 = pd.read_csv('output/hygeine_stock.csv_result2.csv',encoding='utf-8')\n",
    "f3 = pd.read_csv('output/hygeine_stock.csv_result3.csv',encoding='utf-8')\n",
    "\n",
    "all_result = pd.concat([f1,f2,f3],ignore_index=True)\n",
    "all_result.to_csv('output/ipone_result.csv',encoding='utf-8')"
   ]
  }
 ],
 "metadata": {
  "kernelspec": {
   "display_name": "Python 3",
   "language": "python",
   "name": "python3"
  },
  "language_info": {
   "codemirror_mode": {
    "name": "ipython",
    "version": 3
   },
   "file_extension": ".py",
   "mimetype": "text/x-python",
   "name": "python",
   "nbconvert_exporter": "python",
   "pygments_lexer": "ipython3",
   "version": "3.11.5"
  }
 },
 "nbformat": 4,
 "nbformat_minor": 2
}
