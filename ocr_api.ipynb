{
 "cells": [
  {
   "cell_type": "code",
   "execution_count": 4,
   "metadata": {},
   "outputs": [],
   "source": [
    "import requests\n",
    "import pandas as pd\n",
    "from dotenv import load_dotenv\n",
    "import os"
   ]
  },
  {
   "cell_type": "code",
   "execution_count": 26,
   "metadata": {},
   "outputs": [],
   "source": [
    "load_dotenv(override=True)\n",
    "bzbs_endpoint = os.getenv('BZBS_ENDPOINT')\n",
    "bzbs_blob = os.getenv('BZBS_BLOB_URL')"
   ]
  },
  {
   "cell_type": "code",
   "execution_count": 27,
   "metadata": {},
   "outputs": [],
   "source": [
    "#APIs\n",
    "add_api = bzbs_endpoint + \"demo/add\"\n",
    "detail_api = bzbs_endpoint + \"demo/detail\""
   ]
  },
  {
   "cell_type": "markdown",
   "metadata": {},
   "source": [
    "## VENDOR DATA"
   ]
  },
  {
   "cell_type": "markdown",
   "metadata": {},
   "source": [
    "#### REQUEST OCR APIs"
   ]
  },
  {
   "cell_type": "code",
   "execution_count": 30,
   "metadata": {},
   "outputs": [],
   "source": [
    "def add_file_api(file_name):\n",
    "    body = {\n",
    "        \"FileUrl\": bzbs_blob + file_name\n",
    "        }\n",
    "\n",
    "    response = requests.post(add_api, json=body)\n",
    "\n",
    "    if response.status_code == 200:\n",
    "        # Parse the JSON response\n",
    "        data = response.json()\n",
    "        file_id = data[\"Data\"][\"DocumentReferenceId\"]\n",
    "        return file_id\n",
    "\n",
    "    else:\n",
    "        # If the request failed, print the status code and the response text\n",
    "        print(f\"Request failed with status code {response.status_code}\")\n",
    "        return response.text"
   ]
  },
  {
   "cell_type": "code",
   "execution_count": 31,
   "metadata": {},
   "outputs": [],
   "source": [
    "def detail_file_file(file_id):\n",
    "    params = {\n",
    "        \"DocumentReferenceId\": file_id\n",
    "        }\n",
    "\n",
    "    response = requests.get(add_api, params=params)\n",
    "\n",
    "    if response.status_code == 200:\n",
    "        # Parse the JSON response\n",
    "        data = response.json()\n",
    "        content = data[\"Data\"][\"Content\"]\n",
    "        return content\n",
    "        \n",
    "    else:\n",
    "        # If the request failed, print the status code and the response text\n",
    "        print(f\"Request failed with status code {response.status_code}\")\n",
    "        return response.text"
   ]
  },
  {
   "cell_type": "code",
   "execution_count": 32,
   "metadata": {},
   "outputs": [
    {
     "name": "stdout",
     "output_type": "stream",
     "text": [
      "Request failed with status code 504\n",
      "Request failed with status code 503\n",
      "<div style=\"display: block; margin: auto;  width: 600px; height: 500px; text-align: center; font-family: 'Courier', cursive, sans-serif;\"><h1 style=\"color: 747474\">:( Application Error</h1><p style=\"color:#666\">If you are the application administrator, you can access the <a style=\"color: grey\"href=\"https://dev-api-ocr.scm.azurewebsites.net/detectors\">diagnostic resources</a>.</div>\n",
      "\n"
     ]
    }
   ],
   "source": [
    "file_id = add_file_api(\"BZB_24060712-page1.jpg\")\n",
    "\n",
    "content = detail_file_file(file_id)\n",
    "\n",
    "print(content)"
   ]
  }
 ],
 "metadata": {
  "kernelspec": {
   "display_name": "Python 3",
   "language": "python",
   "name": "python3"
  },
  "language_info": {
   "codemirror_mode": {
    "name": "ipython",
    "version": 3
   },
   "file_extension": ".py",
   "mimetype": "text/x-python",
   "name": "python",
   "nbconvert_exporter": "python",
   "pygments_lexer": "ipython3",
   "version": "3.12.2"
  }
 },
 "nbformat": 4,
 "nbformat_minor": 2
}
