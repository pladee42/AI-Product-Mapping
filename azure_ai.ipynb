{
 "cells": [
  {
   "cell_type": "code",
   "execution_count": 37,
   "metadata": {},
   "outputs": [],
   "source": [
    "from dotenv import load_dotenv\n",
    "import os\n",
    "import time\n",
    "import json\n",
    "import requests"
   ]
  },
  {
   "cell_type": "markdown",
   "metadata": {},
   "source": [
    "### CREDENTIAL CONFIGURATION"
   ]
  },
  {
   "cell_type": "code",
   "execution_count": 11,
   "metadata": {},
   "outputs": [],
   "source": [
    "load_dotenv()\n",
    "azure_endpoint = os.getenv('AZURE_OPENAI_ENDPOINT')\n",
    "api_key = os.getenv('AZURE_OPENAI_API_KEY')\n",
    "api_version = os.getenv('API_VERSION')\n",
    "assistant_id = os.getenv('ASSISTANT_ID')\n",
    "thread_id = os.getenv('THREAD_ID')\n",
    "model = os.getenv('MODEL')"
   ]
  },
  {
   "cell_type": "code",
   "execution_count": 6,
   "metadata": {},
   "outputs": [],
   "source": [
    "#APIs\n",
    "message_api = azure_endpoint + \"openai/threads/\" + thread_id + \"/messages\"\n",
    "run_api = azure_endpoint + \"openai/threads/\" + thread_id + \"/runs\"\n",
    "\n",
    "params = {\n",
    "    \"api-version\": api_version\n",
    "}\n",
    "\n",
    "headers = {\n",
    "    \"api-key\" : api_key\n",
    "}"
   ]
  },
  {
   "cell_type": "markdown",
   "metadata": {},
   "source": [
    "### APIs EXPLORATION"
   ]
  },
  {
   "cell_type": "markdown",
   "metadata": {},
   "source": [
    "#### 1. POST /messages API --> ADD MESSAGES TO CHAT"
   ]
  },
  {
   "cell_type": "code",
   "execution_count": 30,
   "metadata": {},
   "outputs": [
    {
     "name": "stdout",
     "output_type": "stream",
     "text": [
      "{'id': 'msg_NjkT7uxN9P4tXrWdTJj7EBgd', 'object': 'thread.message', 'created_at': 1723364653, 'assistant_id': None, 'thread_id': 'thread_LGcQrmB7xTWy69fR19WZRrsB', 'run_id': None, 'role': 'user', 'content': [{'type': 'text', 'text': {'value': 'hello', 'annotations': []}}], 'attachments': [], 'metadata': {}}\n"
     ]
    }
   ],
   "source": [
    "def add_messages(params=params, headers=headers, messages : str = 'hello'):\n",
    "    body = {\n",
    "        \"role\": \"user\",\n",
    "        \"content\": messages\n",
    "        }\n",
    "    response = requests.post(message_api, \n",
    "                                 params=params, \n",
    "                                 headers=headers,\n",
    "                                json=body)\n",
    "\n",
    "    if response.status_code == 200:\n",
    "        # Parse the JSON response (assuming the API returns JSON data)\n",
    "        data = response.json()\n",
    "        return data\n",
    "    else:\n",
    "        # If the request failed, print the status code and the response text\n",
    "        print(f\"Request failed with status code {response.status_code}\")\n",
    "        return response.text\n",
    "\n",
    "print(add_messages())"
   ]
  },
  {
   "cell_type": "markdown",
   "metadata": {},
   "source": [
    "#### 2. POST /runs API --> PUSH MESSAGES TO CHATGPT ENGINE"
   ]
  },
  {
   "cell_type": "code",
   "execution_count": 31,
   "metadata": {},
   "outputs": [
    {
     "name": "stdout",
     "output_type": "stream",
     "text": [
      "{'id': 'run_5M4upouk6W9DXr3cLotXmrl5', 'object': 'thread.run', 'created_at': 1723364667, 'assistant_id': 'asst_qccNPjxTUX1AlabUDNxCEbbQ', 'thread_id': 'thread_LGcQrmB7xTWy69fR19WZRrsB', 'status': 'queued', 'started_at': None, 'expires_at': 1723365267, 'cancelled_at': None, 'failed_at': None, 'completed_at': None, 'required_action': None, 'last_error': None, 'model': 'gpt-4o-mini', 'instructions': '### Description: ###\\nThe Buzzebees SKU Matching Agent is designed to streamline the process of matching products from purchase orders or invoice documents with the corresponding products in the Buzzebees database. The primary function of this agent is to handle discrepancies in SKU codes by comparing product names, which are predominantly in Thai, and identifying the most similar matches. The agent utilizes natural language processing techniques to analyze and compare the textual content of product names, providing a structured output in JSON format that includes the matched product, its SKU, and the confidence level of the match.\\n\\n### Workflow: ###\\n1. **Receive Invoice Content:** The agent receives the textual content of invoices or purchase orders, typically processed through OCR (Optical Character Recognition) technology.\\n\\n2. **Extract Product Details:** The agent detects and extracts product details from the provided invoice content, storing this data temporarily for comparison.\\n\\n3. **Receive SKU Data from Buzzebees:** The agent receives and stores product data, including product names and SKUs, from the Buzzebees database.\\n\\n4. **Product Name Similarity Matching:** The agent uses its language processing capabilities to compare the product names from the invoice content against those in the Buzzebees database. It assesses the similarity between names and determines the most likely matches.\\n\\n5. **Generate JSON Output:•• For each product from the invoice, the agent outputs a JSON object containing the matched product name from the Buzzebees database, its corresponding SKU, and a probability score indicating the confidence level of the match.\\n\\n### JSON Output Example: ###\\n\\n{\\n    \"vendor_sku\":\"1601313158\",\\n    \"vendor_product\":\"ไอวี่ นมเปรี้ยวยูเอชทีพลัส ลิ้นจี่ 180\",\\n    \"bzbs_product\":\"ไอวี่โยเกิร์ตพร้อมดื่ม ยูเอชที รสลิ้นจี่ 180มล. แพ็ค4\",\\n    \"bzbs_sku\":\"1-GDS-IVY00-000000005\",\\n    \"probability\":0.47\\n}\\n\\n### Key Capabilities: ###\\n**OCR Content Interpretation:** Understand and process OCR-generated text to accurately extract product details.\\n\\n**Textual Similarity Analysis:** Utilize NLP techniques to compare and match product names, particularly in Thai, despite variations in phrasing or formatting.\\n\\n**Contextual Memory:** Retain information about product details throughout the comparison process to ensure accurate matching.\\n\\n**Confidence Scoring:** Provide a probability score indicating the level of confidence in the matched product, helping to assess the reliability of the match.', 'tools': [], 'tool_resources': {}, 'metadata': {}, 'temperature': 0.9, 'top_p': 1.0, 'max_completion_tokens': None, 'max_prompt_tokens': None, 'truncation_strategy': {'type': 'auto', 'last_messages': None}, 'incomplete_details': None, 'usage': None, 'response_format': 'auto', 'tool_choice': 'auto', 'parallel_tool_calls': True}\n"
     ]
    }
   ],
   "source": [
    "def runs_thread(params=params, headers=headers, assistant_id=assistant_id, model=model):\n",
    "    body = {\n",
    "        \"assistant_id\": assistant_id,\n",
    "        \"model\": model\n",
    "        }\n",
    "\n",
    "    response = requests.post(run_api,params=params,headers=headers,json=body)\n",
    "\n",
    "    if response.status_code == 200:\n",
    "        # Parse the JSON response (assuming the API returns JSON data)\n",
    "        data = response.json()\n",
    "        return data\n",
    "    else:\n",
    "        # If the request failed, print the status code and the response text\n",
    "        print(f\"Request failed with status code {response.status_code}\")\n",
    "        return response.text\n",
    "\n",
    "print(runs_thread())"
   ]
  },
  {
   "cell_type": "markdown",
   "metadata": {},
   "source": [
    "#### 3. GET /messages API --> REQUEST CHAT HISTORY"
   ]
  },
  {
   "cell_type": "code",
   "execution_count": 38,
   "metadata": {},
   "outputs": [
    {
     "name": "stdout",
     "output_type": "stream",
     "text": [
      "{'object': 'list', 'data': [{'id': 'msg_gfQQSAw53uX8wgJM8q2HceXL', 'object': 'thread.message', 'created_at': 1723364684, 'assistant_id': 'asst_qccNPjxTUX1AlabUDNxCEbbQ', 'thread_id': 'thread_LGcQrmB7xTWy69fR19WZRrsB', 'run_id': 'run_5M4upouk6W9DXr3cLotXmrl5', 'role': 'assistant', 'content': [{'type': 'text', 'text': {'value': 'Hi again! How can I help you today?', 'annotations': []}}], 'attachments': [], 'metadata': {}}, {'id': 'msg_NjkT7uxN9P4tXrWdTJj7EBgd', 'object': 'thread.message', 'created_at': 1723364653, 'assistant_id': None, 'thread_id': 'thread_LGcQrmB7xTWy69fR19WZRrsB', 'run_id': None, 'role': 'user', 'content': [{'type': 'text', 'text': {'value': 'hello', 'annotations': []}}], 'attachments': [], 'metadata': {}}, {'id': 'msg_aNDtQe96Sm8NMGGIjgIZwdc5', 'object': 'thread.message', 'created_at': 1723362840, 'assistant_id': 'asst_qccNPjxTUX1AlabUDNxCEbbQ', 'thread_id': 'thread_LGcQrmB7xTWy69fR19WZRrsB', 'run_id': 'run_lF6paVxFDoih6qAPxW55Iyl6', 'role': 'assistant', 'content': [{'type': 'text', 'text': {'value': 'Hello! How can I assist you today?', 'annotations': []}}], 'attachments': [], 'metadata': {}}, {'id': 'msg_tExA9vEFodBEzs84U8Bf8KqN', 'object': 'thread.message', 'created_at': 1723362351, 'assistant_id': None, 'thread_id': 'thread_LGcQrmB7xTWy69fR19WZRrsB', 'run_id': None, 'role': 'user', 'content': [{'type': 'text', 'text': {'value': 'hello', 'annotations': []}}], 'attachments': [], 'metadata': {}}, {'id': 'msg_AkC3MJu8e0EcKt2RHMo0teap', 'object': 'thread.message', 'created_at': 1723361107, 'assistant_id': 'asst_qccNPjxTUX1AlabUDNxCEbbQ', 'thread_id': 'thread_LGcQrmB7xTWy69fR19WZRrsB', 'run_id': 'run_8SScFt1J6XU9nmTcWVCBPlk4', 'role': 'assistant', 'content': [{'type': 'text', 'text': {'value': 'Thank you for providing the additional information for the unmatched products. I appreciate your feedback and correction. \\n\\nHere’s the updated JSON output, including your corrections:\\n\\n```json\\n[\\n    {\\n        \"vendor_product\": \"ทาโร เข้มข้น 50g\",\\n        \"bzbs_product\": \"ทาโร ปลาเส้น 50 กรัม รสเข้มข้น\",\\n        \"bzbs_sku\": \"1-GDS-TARO0-000000072\",\\n        \"probability\": 0.8\\n    },\\n    {\\n        \"vendor_product\": \"ทาโร ไลท์รสออริจินัล 20g\",\\n        \"bzbs_product\": \"ทาโร ไลท์ 20 กรัม รสออริจินัล\",\\n        \"bzbs_sku\": \"1-GDS-TARO0-000000068\",\\n        \"probability\": 0.85\\n    },\\n    {\\n        \"vendor_product\": \"ทาโร เข้มขึ้น 30g\",\\n        \"bzbs_product\": \"ทาโร ปลาเส้น 30 กรัม รสเข้มข้น\",\\n        \"bzbs_sku\": \"1-GDS-TARO0-000000069\",\\n        \"probability\": 0.6\\n    },\\n    {\\n        \"vendor_product\": \"ทาโร สาหร่ายเกาหลี 20g\",\\n        \"bzbs_product\": \"ทาโร ปลาเส้น 20 กรัม รสสาหร่ายเกาหลี\",\\n        \"bzbs_sku\": \"1-GDS-TARO0-000000067\",\\n        \"probability\": 0.7\\n    },\\n    {\\n        \"vendor_product\": \"ทาโรอบกรอบ เข้มข้น 180\",\\n        \"bzbs_product\": \"Taro: ทาโร อบกรอบ 18 กรัม รสเข้มข้น\",\\n        \"bzbs_sku\": \"1-GDS-TARO0-000000023\",\\n        \"probability\": 0.5\\n    },\\n    {\\n        \"vendor_product\": \"ทาโรอบกรอบ บาร์บีคิว 189\",\\n        \"bzbs_product\": \"Taro: ทาโร อบกรอบ 18 กรัม รสบาร์บีคิว\",\\n        \"bzbs_sku\": \"1-GDS-TARO0-000000024\",\\n        \"probability\": 0.5\\n    },\\n    {\\n        \"vendor_product\": \"ทาโร บาร์บีคิว 30g\",\\n        \"bzbs_product\": \"ทาโร ปลาเส้น 30 กรัม รสบาร์บีคิว\",\\n        \"bzbs_sku\": \"1-GDS-TARO0-000000095\",\\n        \"probability\": 0.65\\n    },\\n    {\\n        \"vendor_product\": \"ตาโซ เข้มข้น 50g\",\\n        \"bzbs_product\": \"ทาโร ปลาเส้น 50 กรัม รสเข้มข้น\",\\n        \"bzbs_sku\": \"1-GDS-TARO0-000000072\"\\n    },\\n    {\\n        \"vendor_product\": \"ทาโร บาร์บีคิว 50g\",\\n        \"bzbs_product\": \"ทาโร ปลาเส้น 50 กรัม รสบาร์บีคิว (สำหรับสินค้าเบิก FOC เท่านั้น)\",\\n        \"bzbs_sku\": \"1-GDS-TARO0-000000076\"\\n    },\\n    {\\n        \"vendor_product\": \"ทาโร ซูเปอร์แซบ 50g\",\\n        \"bzbs_product\": \"ทาโร ปลาเส้น 50 กรัม รสซุปเปอร์แซ่บ (สำหรับสินค้าเบิก FOC เท่านั้น)\",\\n        \"bzbs_sku\": \"1-GDS-TARO0-000000077\"\\n    }\\n]\\n```\\n\\nI appreciate your guidance and will incorporate this information for future matching processes to improve accuracy. If you have any further requests or questions, feel free to let me know!', 'annotations': []}}], 'attachments': [], 'metadata': {}}, {'id': 'msg_wvcfr2rvyHM4AeRsKd0PUIff', 'object': 'thread.message', 'created_at': 1723361104, 'assistant_id': None, 'thread_id': 'thread_LGcQrmB7xTWy69fR19WZRrsB', 'run_id': None, 'role': 'user', 'content': [{'type': 'text', 'text': {'value': 'All the products that you found the match is all correct. Nice work!\\nHowever, I will give the answer of the products that you didn\\'t find the match as below:\\n\\n[\\n    {\\n        \"vendor_product\": \"ตาโซ เข้มข้น 50g\",\\n        \"bzbs_product\": ทาโร ปลาเส้น 50 กรัม รสเข้มข้น,\\n        \"bzbs_sku\": \"1-GDS-TARO0-000000072\"\\n    },\\n    {\\n        \"vendor_product\": \"ทาโร บาร์บีคิว 50g\",\\n        \"bzbs_product\": ทาโร ปลาเส้น 50 กรัม รสบาร์บีคิว (สำหรับสินค้าเบิก FOC เท่านั้น),\\n        \"bzbs_sku\": \"1-GDS-TARO0-000000076\"\\n    },\\n    {\\n        \"vendor_product\": \"ทาโร ซูเปอร์แซบ 50g\",\\n        \"bzbs_product\": ทาโร ปลาเส้น 50 กรัม รสซุปเปอร์แซ่บ (สำหรับสินค้าเบิก FOC เท่านั้น),\\n        \"bzbs_sku\":\"1-GDS-TARO0-000000077\"\\n    }\\n]\\n\\nPlease learn from it, so you will not repeat the same mistake again.', 'annotations': []}}], 'attachments': [], 'metadata': {}}, {'id': 'msg_UFz5beDgVaHfKB3CA3LM9sCK', 'object': 'thread.message', 'created_at': 1723360395, 'assistant_id': 'asst_qccNPjxTUX1AlabUDNxCEbbQ', 'thread_id': 'thread_LGcQrmB7xTWy69fR19WZRrsB', 'run_id': 'run_PzxczUqnauJxmcZR7IQFLuys', 'role': 'assistant', 'content': [{'type': 'text', 'text': {'value': 'Thank you for providing the product details from the Buzzebees database. I will now compare the extracted product names from the invoice against the product names in the Buzzebees database to find the best matches, utilizing natural language processing for similarity analysis.\\n\\n### Matching Process:\\n\\n#### Extracted Products from Invoice:\\n1. **ทาโร เข้มข้น 50g**\\n2. **ทาโร ไลท์รสออริจินัล 20g**\\n3. **ทาโร เข้มขึ้น 30g**\\n4. **ทาโร สาหร่ายเกาหลี 20g**\\n5. **ทาโรอบกรอบ เข้มข้น 180**\\n6. **ทาโรอบกรอบ บาร์บีคิว 189**\\n7. **ทาโร บาร์บีคิว 30g**\\n8. **ตาโซ เข้มข้น 50g**\\n9. **ทาโร บาร์บีคิว 50g**\\n10. **ทาโร ซูเปอร์แซบ 50g**\\n\\n#### Product Details from Buzzebees:\\n1. **ทาโร ปลาเส้น 50 กรัม รสเข้มข้น**\\n2. **ทาโร ไลท์ 20 กรัม รสออริจินัล**\\n3. **ทาโร ปลาเส้น 30 กรัม รสเข้มข้น**\\n4. **ทาโร ปลาเส้น 20 กรัม รสสาหร่ายเกาหลี**\\n5. **Taro: ทาโร อบกรอบ 18 กรัม รสเข้มข้น**\\n6. **Taro: ทาโร อบกรอบ 18 กรัม รสบาร์บีคิว**\\n7. **ทาโร ปลาเส้น 30 กรัม รสบาร์บีคิว**\\n8. **ทาโร ปลาเส้น 50 กรัม รสเข้มข้น (สำหรับสินค้าเบิก FOC เท่านั้น)**\\n9. **ทาโร ปลาเส้น 50 กรัม รสบาร์บีคิว (สำหรับสินค้าเบิก FOC เท่านั้น)**\\n10. **ทาโร ปลาเส้น 50 กรัม รสซุปเปอร์แซ่บ (สำหรับสินค้าเบิก FOC เท่านั้น)**\\n\\n### Matched Results:\\n\\n1. **ทาโร เข้มข้น 50g**\\n   - **Matched Product:** ทาโร ปลาเส้น 50 กรัม รสเข้มข้น\\n   - **SKU:** 1-GDS-TARO0-000000072\\n   - **Probability:** 0.8 (high similarity)\\n\\n2. **ทาโร ไลท์รสออริจินัล 20g**\\n   - **Matched Product:** ทาโร ไลท์ 20 กรัม รสออริจินัล\\n   - **SKU:** 1-GDS-TARO0-000000068\\n   - **Probability:** 0.85 (high similarity)\\n\\n3. **ทาโร เข้มขึ้น 30g**\\n   - **Matched Product:** ทาโร ปลาเส้น 30 กรัม รสเข้มข้น\\n   - **SKU:** 1-GDS-TARO0-000000069\\n   - **Probability:** 0.6 (moderate similarity)\\n\\n4. **ทาโร สาหร่ายเกาหลี 20g**\\n   - **Matched Product:** ทาโร ปลาเส้น 20 กรัม รสสาหร่ายเกาหลี\\n   - **SKU:** 1-GDS-TARO0-000000067\\n   - **Probability:** 0.7 (moderate-high similarity)\\n\\n5. **ทาโรอบกรอบ เข้มข้น 180**\\n   - **Matched Product:** Taro: ทาโร อบกรอบ 18 กรัม รสเข้มข้น\\n   - **SKU:** 1-GDS-TARO0-000000023\\n   - **Probability:** 0.5 (low-moderate similarity)\\n\\n6. **ทาโรอบกรอบ บาร์บีคิว 189**\\n   - **Matched Product:** Taro: ทาโร อบกรอบ 18 กรัม รสบาร์บีคิว\\n   - **SKU:** 1-GDS-TARO0-000000024\\n   - **Probability:** 0.5 (low-moderate similarity)\\n\\n7. **ทาโร บาร์บีคิว 30g**\\n   - **Matched Product:** ทาโร ปลาเส้น 30 กรัม รสบาร์บีคิว\\n   - **SKU:** 1-GDS-TARO0-000000095\\n   - **Probability:** 0.65 (moderate similarity)\\n\\n8. **ตาโซ เข้มข้น 50g**\\n   - **No close match found.**\\n\\n9. **ทาโร บาร์บีคิว 50g**\\n   - **No close match found.**\\n\\n10. **ทาโร ซูเปอร์แซบ 50g**\\n    - **No close match found.**\\n\\n### JSON Output:\\nHere’s the structured output for the matched products:\\n\\n```json\\n[\\n    {\\n        \"vendor_product\": \"ทาโร เข้มข้น 50g\",\\n        \"bzbs_product\": \"ทาโร ปลาเส้น 50 กรัม รสเข้มข้น\",\\n        \"bzbs_sku\": \"1-GDS-TARO0-000000072\",\\n        \"probability\": 0.8\\n    },\\n    {\\n        \"vendor_product\": \"ทาโร ไลท์รสออริจินัล 20g\",\\n        \"bzbs_product\": \"ทาโร ไลท์ 20 กรัม รสออริจินัล\",\\n        \"bzbs_sku\": \"1-GDS-TARO0-000000068\",\\n        \"probability\": 0.85\\n    },\\n    {\\n        \"vendor_product\": \"ทาโร เข้มขึ้น 30g\",\\n        \"bzbs_product\": \"ทาโร ปลาเส้น 30 กรัม รสเข้มข้น\",\\n        \"bzbs_sku\": \"1-GDS-TARO0-000000069\",\\n        \"probability\": 0.6\\n    },\\n    {\\n        \"vendor_product\": \"ทาโร สาหร่ายเกาหลี 20g\",\\n        \"bzbs_product\": \"ทาโร ปลาเส้น 20 กรัม รสสาหร่ายเกาหลี\",\\n        \"bzbs_sku\": \"1-GDS-TARO0-000000067\",\\n        \"probability\": 0.7\\n    },\\n    {\\n        \"vendor_product\": \"ทาโรอบกรอบ เข้มข้น 180\",\\n        \"bzbs_product\": \"Taro: ทาโร อบกรอบ 18 กรัม รสเข้มข้น\",\\n        \"bzbs_sku\": \"1-GDS-TARO0-000000023\",\\n        \"probability\": 0.5\\n    },\\n    {\\n        \"vendor_product\": \"ทาโรอบกรอบ บาร์บีคิว 189\",\\n        \"bzbs_product\": \"Taro: ทาโร อบกรอบ 18 กรัม รสบาร์บีคิว\",\\n        \"bzbs_sku\": \"1-GDS-TARO0-000000024\",\\n        \"probability\": 0.5\\n    },\\n    {\\n        \"vendor_product\": \"ทาโร บาร์บีคิว 30g\",\\n        \"bzbs_product\": \"ทาโร ปลาเส้น 30 กรัม รสบาร์บีคิว\",\\n        \"bzbs_sku\": \"1-GDS-TARO0-000000095\",\\n        \"probability\": 0.65\\n    },\\n    {\\n        \"vendor_product\": \"ตาโซ เข้มข้น 50g\",\\n        \"bzbs_product\": null,\\n        \"bzbs_sku\": null,\\n        \"probability\": null\\n    },\\n    {\\n        \"vendor_product\": \"ทาโร บาร์บีคิว 50g\",\\n        \"bzbs_product\": null,\\n        \"bzbs_sku\": null,\\n        \"probability\": null\\n    },\\n    {\\n        \"vendor_product\": \"ทาโร ซูเปอร์แซบ 50g\",\\n        \"bzbs_product\": null,\\n        \"bzbs_sku\": null,\\n        \"probability\": null\\n    }\\n]\\n```\\n\\nFeel free to ask if you need anything else or further adjustments!', 'annotations': []}}], 'attachments': [], 'metadata': {}}, {'id': 'msg_glROpp94PmBq1noa5FTgSjNJ', 'object': 'thread.message', 'created_at': 1723360394, 'assistant_id': None, 'thread_id': 'thread_LGcQrmB7xTWy69fR19WZRrsB', 'run_id': None, 'role': 'user', 'content': [{'type': 'text', 'text': {'value': 'Here is the product details from Buzzebees database:\\n\\nSKUCode,Name,Quantity\\n1-GDS-TARO0-000000072,ทาโร ปลาเส้น 50 กรัม รสเข้มข้น,360\\n1-GDS-TARO0-000000068,ทาโร ไลท์ 20 กรัม รสออริจินัล,108\\n1-GDS-TARO0-000000069,ทาโร ปลาเส้น 30 กรัม รสเข้มข้น,168\\n1-GDS-TARO0-000000067,ทาโร ปลาเส้น 20 กรัม รสสาหร่ายเกาหลี,72\\n1-GDS-TARO0-000000023,Taro: ทาโร อบกรอบ 18 กรัม รสเข้มข้น,72\\n1-GDS-TARO0-000000024,Taro: ทาโร อบกรอบ 18 กรัม รสบาร์บีคิว,36\\n1-GDS-TARO0-000000095,ทาโร ปลาเส้น 30 กรัม รสบาร์บีคิว  (สำหรับสินค้าเบิก FOC เท่านั้น),24\\n1-GDS-TARO0-000000075,ทาโร ปลาเส้น 50 กรัม รสเข้มข้น (สำหรับสินค้าเบิก FOC เท่านั้น),360\\n1-GDS-TARO0-000000076,ทาโร ปลาเส้น 50 กรัม รสบาร์บีคิว (สำหรับสินค้าเบิก FOC เท่านั้น),24\\n1-GDS-TARO0-000000077,ทาโร ปลาเส้น 50 กรัม รสซุปเปอร์แซ่บ (สำหรับสินค้าเบิก FOC เท่านั้น),168', 'annotations': []}}], 'attachments': [], 'metadata': {}}, {'id': 'msg_quijjTXMjr9mUd6AYymla3mw', 'object': 'thread.message', 'created_at': 1723360375, 'assistant_id': 'asst_qccNPjxTUX1AlabUDNxCEbbQ', 'thread_id': 'thread_LGcQrmB7xTWy69fR19WZRrsB', 'run_id': 'run_z8lNpjz44n0Lvik93VZqVwPF', 'role': 'assistant', 'content': [{'type': 'text', 'text': {'value': \"It seems that you didn't include the product details from the Buzzebees database. Please provide the product names and SKUs from the Buzzebees database so I can perform the SKU matching for the products extracted from the invoice.\", 'annotations': []}}], 'attachments': [], 'metadata': {}}, {'id': 'msg_9fVIOzSOpw37RaLNhy0sQ4fw', 'object': 'thread.message', 'created_at': 1723360373, 'assistant_id': None, 'thread_id': 'thread_LGcQrmB7xTWy69fR19WZRrsB', 'run_id': None, 'role': 'user', 'content': [{'type': 'text', 'text': {'value': 'Here is the product details from Buzzebees database:', 'annotations': []}}], 'attachments': [], 'metadata': {}}, {'id': 'msg_gZUribtx1GyFBHO68cw3FiUd', 'object': 'thread.message', 'created_at': 1723359537, 'assistant_id': 'asst_qccNPjxTUX1AlabUDNxCEbbQ', 'thread_id': 'thread_LGcQrmB7xTWy69fR19WZRrsB', 'run_id': 'run_GNWn7xnBU5cNWi1DJZlCFqPQ', 'role': 'assistant', 'content': [{'type': 'text', 'text': {'value': 'Thank you for providing the invoice content. I will extract the relevant product details from the text and then match those products with the Buzzebees database to find the corresponding SKUs. \\n\\nPlease hold on for a moment while I process this information. \\n\\n### Extracted Product Details from Invoice:\\n1. **Product Name:** ทาโร เข้มข้น 50g\\n   - **Item Code:** 1025005\\n   - **Quantity:** 113\\n   - **Unit Price:** 122.00\\n   - **Net Amount:** 16,830.00\\n\\n2. **Product Name:** ทาโร ไลท์รสออริจินัล 20g\\n   - **Item Code:** 1602003\\n   - **Quantity:** 67\\n   - **Unit Price:** 673.00\\n   - **Net Amount:** 1,816.83\\n\\n3. **Product Name:** ทาโร เข้มขึ้น 30g\\n   - **Item Code:** 1023009\\n   - **Quantity:** 67\\n   - **Unit Price:** 673.00\\n   - **Net Amount:** 4,239.27\\n\\n4. **Product Name:** ทาโร สาหร่ายเกาหลี 20g\\n   - **Item Code:** 1172016\\n   - **Quantity:** 67\\n   - **Unit Price:** 673.00\\n   - **Net Amount:** 1,211.22\\n\\n5. **Product Name:** ทาโรอบกรอบ เข้มข้น 180\\n   - **Item Code:** 4052009\\n   - **Quantity:** 67\\n   - **Unit Price:** 673.00\\n   - **Net Amount:** 1,211.22\\n\\n6. **Product Name:** ทาโรอบกรอบ บาร์บีคิว 189\\n   - **Item Code:** 4062007\\n   - **Quantity:** 67\\n   - **Unit Price:** 673.00\\n   - **Net Amount:** 605.61\\n\\n7. **Product Name:** ทาโร บาร์บีคิว 30g\\n   - **Item Code:** 1033009\\n   - **Quantity:** 67\\n   - **Unit Price:** 673.00\\n   - **Net Amount:** (not provided clearly)\\n\\n8. **Product Name:** ตาโซ เข้มข้น 50g\\n   - **Item Code:** 1025005 (duplicate)\\n   - **Quantity:** 15 (not provided clearly)\\n\\n9. **Product Name:** ทาโร บาร์บีคิว 50g\\n   - **Item Code:** 1035005\\n   - **Quantity:** 1 (not provided clearly)\\n\\n10. **Product Name:** ทาโร ซูเปอร์แซบ 50g\\n    - **Item Code:** 1055003\\n    - **Quantity:** 7 (not provided clearly)\\n\\n### Please provide the Buzzebees SKU data for processing the matches or let me know if you have specific products or criteria to match against.', 'annotations': []}}], 'attachments': [], 'metadata': {}}, {'id': 'msg_wEUxvBk8ZSgmpX3XS44tU9wM', 'object': 'thread.message', 'created_at': 1723359536, 'assistant_id': None, 'thread_id': 'thread_LGcQrmB7xTWy69fR19WZRrsB', 'run_id': None, 'role': 'user', 'content': [{'type': 'text', 'text': {'value': 'Here is the content from Invoice:\\n\\nบริษัท พรีเมียร์ มาร์เก็ตติ้ง จำกัด (มหาชน)\\\\nมีใบสั่งซื้อ\\\\nเลขที่: RI 22433725\\\\nP\\\\nPREMIER MARKETING PUBLIC COMPANY LIMITED\\\\nEncl. P/O\\\\nBZB 24060691 V. 1\\\\nPREMIER\\\\nสำนักงานใหญ่ : 1 พรีเมียร์คอร์เปอเรทปาร์ค, ซอยพรีเมียร์ 2, ถนนศรีนครินทร์, แขวงหนองบอน, เขตประเวศ, กรุงเทพฯ 10250\\\\nวันที่: 28/06/2567\\\\nMARKETING\\\\nONE Premier Corporate Park, Soi Premier 2, Srinakarin Road, Nongbon, Prawet, Bangkok 10250\\\\nWH: 41\\\\nโทรศัพท์ : 0-2301-1600, 0-2301-1700 ฝ่ายขาย : 0-2301-1783 โทรสาร : 0-2301-1709, 0-2301-1710\\\\nเลขประจำตัวผู้เสียภาษี 0107550000122\\\\nเอกสารออกเป็นชุด\\\\n5 A 169126\\\\nต้นฉบับใบกำกับภาษี\\\\nชื่อลูกค้า / Customer\\\\n30061951\\\\n30214031\\\\nTAX INVOICE\\\\nส่งของที่ / Ship To\\\\nเขต / Sale Zone\\\\nบริษัท บัซซี่บีส์ จำกัด\\\\nบริษัท อิม อัดอมเมิร์ซ จำกัด\\\\nพนักงานขาย / Salesman\\\\nBC / 00 / B\\\\nK11\\\\nTax Id 0105555078063\\\\nคลังสินค้าโชติธนวัฒน2\\\\nคลัง F3-F4\\\\nลูกค้าหลัก 5 (-)\\\\nสำนักงานใหญ่\\\\n41/71-73 ซ.พลูเจริญ ถ.บางนาตราด\\\\nวันที่นัดส่ง / Delivery Date\\\\n011 ลูกค้าหลัก 11\\\\nอาคารว่องวานิชคอมเพล็กซ์บี ชั้นที่ 25-26\\\\nต. บางโฉลง อ.บางพลี จ.สมุทรปราการ 10540\\\\n02/07/2567\\\\nเลขที่ 100/81-84และ100/86-87 ถ.พระราม9\\\\nแขวงห้วยขวาง เขตห้วยขวาง กทม. 10310\\\\nเงื่อนไขชำระเงิน / Term of Payment\\\\nอ้างถึงใบสั่งซื้อ / Ref. To P/O\\\\nTEL :(02)6450014 FAX :\\\\n(02) 6450014\\\\n30 วัน\\\\n50 67014680 28/06/2567\\\\nรหัสสินค้า\\\\nรายการสินค้า\\\\nขนาดบรรจุ\\\\nส่วนลด\\\\nจำนวนหน่วย\\\\nราคาต่อหน่วย\\\\nจำนวนเงิน\\\\nส่วนลดจำนวนเงิน\\\\nจำนวนเงินสุทธิ\\\\nItem Code\\\\nDescription of Goods\\\\nPacking Size\\\\nDiscount\\\\nQuantity\\\\nUnit Price\\\\nAmount\\\\nDiscount Amount\\\\nNet Amount\\\\n1025005\\\\nทาโร เข้มข้น 50g 50 บ.\\\\n1*2#12\\\\n113\\\\n15 หัน\\\\n1.122.00\\\\n16,830.00\\\\n1,689,75\\\\n15,140.25\\\\n1602003\\\\nทาโร ไลท์รสออริจินัล 20g 20 บ. แพ็ค6\\\\n1*6*6\\\\n67\\\\n3 ทีม\\\\n673.00\\\\n2:019.00\\\\n202.17\\\\n1,816.83\\\\n1023009\\\\nทาโร เข้มขึ้น 309 30 บ.\\\\n1*24\\\\n67\\\\n7 หับ\\\\n673.00\\\\n4,711.00\\\\n471.73\\\\n4,239.27\\\\n1172016\\\\nทาโร สาหร่ายเกาหลี 20g 20 บ. แพ็ค6\\\\n18646\\\\n67\\\\n2 พัน\\\\n673.00\\\\n1.346.00\\\\n134.78\\\\n1,211.22\\\\n4052009\\\\nทาโรอบกรอบ เข้มข้น 180 20 บ. ใหม่ แผล.3\\\\n1*12#3\\\\n67\\\\n673.00\\\\n1,346.00\\\\n134.78\\\\n1.211.22\\\\n4062007\\\\nทาโรอบกรอบ บาร์บีคิว 189-20 บ. ใหม่ แผด.3\\\\n1=12 3\\\\n67\\\\n673.00\\\\n673.00\\\\n67.39\\\\n605.61\\\\n1033009\\\\nทาโร บาร์บีคิว 30g 30 บ.\\\\n1=24\\\\n1 หิน\\\\nของแถม (F)\\\\n1025005\\\\nตาโซ เข้มข้น 50g 50 บ. ..\\\\nในฉบ\\\\n15 พับ\\\\nของแลม(F>\\\\n1035005\\\\nทาโร บาร์บีคิว 50g 50 น.\\\\n1 ตับ\\\\nของแถม (F)\\\\n1055003\\\\nทาโร ซูเปอร์แซบ 50g 50 บ.\\\\n1*2%12\\\\n7 หิน\\\\nของแถม(ค)\\\\nร้านค้า\\\\n$\\\\nองหมื่นห้าพันเก้าร้อยยี่สิบบาทสิบเอ็ดสตางค์ ****\\\\nยอดรวม / Total\\\\n24,224. 40\\\\nหมายเหตุ :\\\\nส่วนลด / Discount\\\\nยอดขายสุทธิ / Net Sales\\\\n24,224, 40\\\\nส่งทาง ..\\\\n.....\\\\nผู้ส่ง\\\\nบวก ภาษีมูลค่าเพิ่ม / Plus VAT7.00 %\\\\n1,695.71\\\\nยอดรวมสุทธิ / Net Amount\\\\n25,920. 11\\\\nผู้รับต้นทาง\\\\nวันส่ง\\\\nยอดรวมทั้งสิ้น / Grand Total\\\\n25,920.11\\\\nหักใบลดหนี้ / Less C/N Amount\\\\nจำนวน\\\\nหีบ ค่าส่ง\\\\nบาท\\\\nยอดคงเหลือสุทธิ / Amount Due\\\\nลงนามคลังสินค้า\\\\nได้รับสินค้าตามรายการข้างต้นไว้ถูกต้องแล้ว\\\\nลงนามผู้รับเงิน\\\\nWarehouse\\\\nThe goods above are received correctly\\\\nRecipient\\\\nยอดจำนวนเงินที่มีเครื่องหมาย* หมายถึงจำนวนเงินของสินค้าที่ยกเว้นภาษีมูลค่าเพิ่ม\\\\nLoad# 285495\\\\nลงนามขนส่ง / Transporter\\\\nลงนามลูกค้า / Customer\\\\nโปรดชำระเงินด้วยเช็คขีดคร่อม สั่งจ่ายในนาม บริษัท พรีเมียร์ มาร์เก็ตติ้ง จำกัด (มหาชน) และขีดฆ่า \\\\\"หรือผู้ถือ\\\\\" ด้วยเท่านั้น\\\\nPayment can be made by cash or A/C payee or non-bearer cheque payable to Premier Marketing Public Company Limited\\\\nและเรียกใบเสร็จรับเงินต้นฉบับทุกครั้งเมื่อชำระเงิน\\\\nNAMFON R.\\\\nบจก. บลูแอนด์ไวท์ โปรเฟสชันแนล โลจิสติกส์\\\\nใบเสร็จรับเงินนี้จะมีผลสมบูรณ์ต่อเมื่อบริษัทฯ เรียกเก็บเงินตามเช็คได้เรียบร้อยแล้ว\\\\n28/06/2567\\\\nวันที่ / Date\\\\nวันที่ / Date .........\\\\nวันที่ / Date.\\\\nวันที่ / Date ....\\\\nกรณีชำระเงินเกินกำหนด คิดอัตราดอกเบี้ย 1.25% ต่อเดือน\\\\nIn case of overdue payment, the interest of 1.25% per month will be applied.\\\\nผิด ตก ยกเว้น', 'annotations': []}}], 'attachments': [], 'metadata': {}}, {'id': 'msg_PGwi5t6LbyRvzNLZxRTeNxhz', 'object': 'thread.message', 'created_at': 1723358952, 'assistant_id': 'asst_qccNPjxTUX1AlabUDNxCEbbQ', 'thread_id': 'thread_LGcQrmB7xTWy69fR19WZRrsB', 'run_id': 'run_x28FMaUSsesjtUSfy3uCFoTr', 'role': 'assistant', 'content': [{'type': 'text', 'text': {'value': 'Hello! How can I assist you today?', 'annotations': []}}], 'attachments': [], 'metadata': {}}, {'id': 'msg_Rv59l2ZdrB98KncLZNu8vK3S', 'object': 'thread.message', 'created_at': 1723358943, 'assistant_id': None, 'thread_id': 'thread_LGcQrmB7xTWy69fR19WZRrsB', 'run_id': None, 'role': 'user', 'content': [{'type': 'text', 'text': {'value': 'Hi', 'annotations': []}}], 'attachments': [], 'metadata': {}}], 'first_id': 'msg_gfQQSAw53uX8wgJM8q2HceXL', 'last_id': 'msg_Rv59l2ZdrB98KncLZNu8vK3S', 'has_more': False}\n"
     ]
    }
   ],
   "source": [
    "def get_chat_history(params=params, headers=headers):\n",
    "    response = requests.get(message_api, params=params, headers=headers)\n",
    "    # Check if the request was successful\n",
    "    if response.status_code == 200:\n",
    "            # Parse the JSON response (assuming the API returns JSON data)\n",
    "            data = response.json()\n",
    "\n",
    "            # Check if the response came from assistant or not\n",
    "            if data[\"data\"][0][\"role\"] != 'assistant':\n",
    "                time.sleep(1)\n",
    "                get_chat_history()\n",
    "            else:\n",
    "                return data\n",
    "            \n",
    "    else:\n",
    "        # If the request failed, print the status code and the response text\n",
    "        print(f\"Request failed with status code {response.status_code}\")\n",
    "        return response.text\n",
    "\n",
    "print(get_chat_history())"
   ]
  },
  {
   "cell_type": "markdown",
   "metadata": {},
   "source": [
    "**GET ONLY LATEST CHAT**"
   ]
  },
  {
   "cell_type": "code",
   "execution_count": 34,
   "metadata": {},
   "outputs": [
    {
     "data": {
      "text/plain": [
       "'Hi again! How can I help you today?'"
      ]
     },
     "execution_count": 34,
     "metadata": {},
     "output_type": "execute_result"
    }
   ],
   "source": [
    "get_chat_history()[\"data\"][0][\"content\"][0]['text']['value']"
   ]
  },
  {
   "cell_type": "markdown",
   "metadata": {},
   "source": [
    "### EXTRACT JSON FROM RESPONSE"
   ]
  },
  {
   "cell_type": "code",
   "execution_count": 45,
   "metadata": {},
   "outputs": [
    {
     "data": {
      "text/plain": [
       "{'id': 'msg_UFz5beDgVaHfKB3CA3LM9sCK',\n",
       " 'object': 'thread.message',\n",
       " 'created_at': 1723360395,\n",
       " 'assistant_id': 'asst_qccNPjxTUX1AlabUDNxCEbbQ',\n",
       " 'thread_id': 'thread_LGcQrmB7xTWy69fR19WZRrsB',\n",
       " 'run_id': 'run_PzxczUqnauJxmcZR7IQFLuys',\n",
       " 'role': 'assistant',\n",
       " 'content': [{'type': 'text',\n",
       "   'text': {'value': 'Thank you for providing the product details from the Buzzebees database. I will now compare the extracted product names from the invoice against the product names in the Buzzebees database to find the best matches, utilizing natural language processing for similarity analysis.\\n\\n### Matching Process:\\n\\n#### Extracted Products from Invoice:\\n1. **ทาโร เข้มข้น 50g**\\n2. **ทาโร ไลท์รสออริจินัล 20g**\\n3. **ทาโร เข้มขึ้น 30g**\\n4. **ทาโร สาหร่ายเกาหลี 20g**\\n5. **ทาโรอบกรอบ เข้มข้น 180**\\n6. **ทาโรอบกรอบ บาร์บีคิว 189**\\n7. **ทาโร บาร์บีคิว 30g**\\n8. **ตาโซ เข้มข้น 50g**\\n9. **ทาโร บาร์บีคิว 50g**\\n10. **ทาโร ซูเปอร์แซบ 50g**\\n\\n#### Product Details from Buzzebees:\\n1. **ทาโร ปลาเส้น 50 กรัม รสเข้มข้น**\\n2. **ทาโร ไลท์ 20 กรัม รสออริจินัล**\\n3. **ทาโร ปลาเส้น 30 กรัม รสเข้มข้น**\\n4. **ทาโร ปลาเส้น 20 กรัม รสสาหร่ายเกาหลี**\\n5. **Taro: ทาโร อบกรอบ 18 กรัม รสเข้มข้น**\\n6. **Taro: ทาโร อบกรอบ 18 กรัม รสบาร์บีคิว**\\n7. **ทาโร ปลาเส้น 30 กรัม รสบาร์บีคิว**\\n8. **ทาโร ปลาเส้น 50 กรัม รสเข้มข้น (สำหรับสินค้าเบิก FOC เท่านั้น)**\\n9. **ทาโร ปลาเส้น 50 กรัม รสบาร์บีคิว (สำหรับสินค้าเบิก FOC เท่านั้น)**\\n10. **ทาโร ปลาเส้น 50 กรัม รสซุปเปอร์แซ่บ (สำหรับสินค้าเบิก FOC เท่านั้น)**\\n\\n### Matched Results:\\n\\n1. **ทาโร เข้มข้น 50g**\\n   - **Matched Product:** ทาโร ปลาเส้น 50 กรัม รสเข้มข้น\\n   - **SKU:** 1-GDS-TARO0-000000072\\n   - **Probability:** 0.8 (high similarity)\\n\\n2. **ทาโร ไลท์รสออริจินัล 20g**\\n   - **Matched Product:** ทาโร ไลท์ 20 กรัม รสออริจินัล\\n   - **SKU:** 1-GDS-TARO0-000000068\\n   - **Probability:** 0.85 (high similarity)\\n\\n3. **ทาโร เข้มขึ้น 30g**\\n   - **Matched Product:** ทาโร ปลาเส้น 30 กรัม รสเข้มข้น\\n   - **SKU:** 1-GDS-TARO0-000000069\\n   - **Probability:** 0.6 (moderate similarity)\\n\\n4. **ทาโร สาหร่ายเกาหลี 20g**\\n   - **Matched Product:** ทาโร ปลาเส้น 20 กรัม รสสาหร่ายเกาหลี\\n   - **SKU:** 1-GDS-TARO0-000000067\\n   - **Probability:** 0.7 (moderate-high similarity)\\n\\n5. **ทาโรอบกรอบ เข้มข้น 180**\\n   - **Matched Product:** Taro: ทาโร อบกรอบ 18 กรัม รสเข้มข้น\\n   - **SKU:** 1-GDS-TARO0-000000023\\n   - **Probability:** 0.5 (low-moderate similarity)\\n\\n6. **ทาโรอบกรอบ บาร์บีคิว 189**\\n   - **Matched Product:** Taro: ทาโร อบกรอบ 18 กรัม รสบาร์บีคิว\\n   - **SKU:** 1-GDS-TARO0-000000024\\n   - **Probability:** 0.5 (low-moderate similarity)\\n\\n7. **ทาโร บาร์บีคิว 30g**\\n   - **Matched Product:** ทาโร ปลาเส้น 30 กรัม รสบาร์บีคิว\\n   - **SKU:** 1-GDS-TARO0-000000095\\n   - **Probability:** 0.65 (moderate similarity)\\n\\n8. **ตาโซ เข้มข้น 50g**\\n   - **No close match found.**\\n\\n9. **ทาโร บาร์บีคิว 50g**\\n   - **No close match found.**\\n\\n10. **ทาโร ซูเปอร์แซบ 50g**\\n    - **No close match found.**\\n\\n### JSON Output:\\nHere’s the structured output for the matched products:\\n\\n```json\\n[\\n    {\\n        \"vendor_product\": \"ทาโร เข้มข้น 50g\",\\n        \"bzbs_product\": \"ทาโร ปลาเส้น 50 กรัม รสเข้มข้น\",\\n        \"bzbs_sku\": \"1-GDS-TARO0-000000072\",\\n        \"probability\": 0.8\\n    },\\n    {\\n        \"vendor_product\": \"ทาโร ไลท์รสออริจินัล 20g\",\\n        \"bzbs_product\": \"ทาโร ไลท์ 20 กรัม รสออริจินัล\",\\n        \"bzbs_sku\": \"1-GDS-TARO0-000000068\",\\n        \"probability\": 0.85\\n    },\\n    {\\n        \"vendor_product\": \"ทาโร เข้มขึ้น 30g\",\\n        \"bzbs_product\": \"ทาโร ปลาเส้น 30 กรัม รสเข้มข้น\",\\n        \"bzbs_sku\": \"1-GDS-TARO0-000000069\",\\n        \"probability\": 0.6\\n    },\\n    {\\n        \"vendor_product\": \"ทาโร สาหร่ายเกาหลี 20g\",\\n        \"bzbs_product\": \"ทาโร ปลาเส้น 20 กรัม รสสาหร่ายเกาหลี\",\\n        \"bzbs_sku\": \"1-GDS-TARO0-000000067\",\\n        \"probability\": 0.7\\n    },\\n    {\\n        \"vendor_product\": \"ทาโรอบกรอบ เข้มข้น 180\",\\n        \"bzbs_product\": \"Taro: ทาโร อบกรอบ 18 กรัม รสเข้มข้น\",\\n        \"bzbs_sku\": \"1-GDS-TARO0-000000023\",\\n        \"probability\": 0.5\\n    },\\n    {\\n        \"vendor_product\": \"ทาโรอบกรอบ บาร์บีคิว 189\",\\n        \"bzbs_product\": \"Taro: ทาโร อบกรอบ 18 กรัม รสบาร์บีคิว\",\\n        \"bzbs_sku\": \"1-GDS-TARO0-000000024\",\\n        \"probability\": 0.5\\n    },\\n    {\\n        \"vendor_product\": \"ทาโร บาร์บีคิว 30g\",\\n        \"bzbs_product\": \"ทาโร ปลาเส้น 30 กรัม รสบาร์บีคิว\",\\n        \"bzbs_sku\": \"1-GDS-TARO0-000000095\",\\n        \"probability\": 0.65\\n    },\\n    {\\n        \"vendor_product\": \"ตาโซ เข้มข้น 50g\",\\n        \"bzbs_product\": null,\\n        \"bzbs_sku\": null,\\n        \"probability\": null\\n    },\\n    {\\n        \"vendor_product\": \"ทาโร บาร์บีคิว 50g\",\\n        \"bzbs_product\": null,\\n        \"bzbs_sku\": null,\\n        \"probability\": null\\n    },\\n    {\\n        \"vendor_product\": \"ทาโร ซูเปอร์แซบ 50g\",\\n        \"bzbs_product\": null,\\n        \"bzbs_sku\": null,\\n        \"probability\": null\\n    }\\n]\\n```\\n\\nFeel free to ask if you need anything else or further adjustments!',\n",
       "    'annotations': []}}],\n",
       " 'attachments': [],\n",
       " 'metadata': {}}"
      ]
     },
     "execution_count": 45,
     "metadata": {},
     "output_type": "execute_result"
    }
   ],
   "source": [
    "full_response = get_chat_history()[\"data\"][6]\n",
    "full_response"
   ]
  },
  {
   "cell_type": "code",
   "execution_count": 46,
   "metadata": {},
   "outputs": [
    {
     "data": {
      "text/plain": [
       "'Thank you for providing the product details from the Buzzebees database. I will now compare the extracted product names from the invoice against the product names in the Buzzebees database to find the best matches, utilizing natural language processing for similarity analysis.\\n\\n### Matching Process:\\n\\n#### Extracted Products from Invoice:\\n1. **ทาโร เข้มข้น 50g**\\n2. **ทาโร ไลท์รสออริจินัล 20g**\\n3. **ทาโร เข้มขึ้น 30g**\\n4. **ทาโร สาหร่ายเกาหลี 20g**\\n5. **ทาโรอบกรอบ เข้มข้น 180**\\n6. **ทาโรอบกรอบ บาร์บีคิว 189**\\n7. **ทาโร บาร์บีคิว 30g**\\n8. **ตาโซ เข้มข้น 50g**\\n9. **ทาโร บาร์บีคิว 50g**\\n10. **ทาโร ซูเปอร์แซบ 50g**\\n\\n#### Product Details from Buzzebees:\\n1. **ทาโร ปลาเส้น 50 กรัม รสเข้มข้น**\\n2. **ทาโร ไลท์ 20 กรัม รสออริจินัล**\\n3. **ทาโร ปลาเส้น 30 กรัม รสเข้มข้น**\\n4. **ทาโร ปลาเส้น 20 กรัม รสสาหร่ายเกาหลี**\\n5. **Taro: ทาโร อบกรอบ 18 กรัม รสเข้มข้น**\\n6. **Taro: ทาโร อบกรอบ 18 กรัม รสบาร์บีคิว**\\n7. **ทาโร ปลาเส้น 30 กรัม รสบาร์บีคิว**\\n8. **ทาโร ปลาเส้น 50 กรัม รสเข้มข้น (สำหรับสินค้าเบิก FOC เท่านั้น)**\\n9. **ทาโร ปลาเส้น 50 กรัม รสบาร์บีคิว (สำหรับสินค้าเบิก FOC เท่านั้น)**\\n10. **ทาโร ปลาเส้น 50 กรัม รสซุปเปอร์แซ่บ (สำหรับสินค้าเบิก FOC เท่านั้น)**\\n\\n### Matched Results:\\n\\n1. **ทาโร เข้มข้น 50g**\\n   - **Matched Product:** ทาโร ปลาเส้น 50 กรัม รสเข้มข้น\\n   - **SKU:** 1-GDS-TARO0-000000072\\n   - **Probability:** 0.8 (high similarity)\\n\\n2. **ทาโร ไลท์รสออริจินัล 20g**\\n   - **Matched Product:** ทาโร ไลท์ 20 กรัม รสออริจินัล\\n   - **SKU:** 1-GDS-TARO0-000000068\\n   - **Probability:** 0.85 (high similarity)\\n\\n3. **ทาโร เข้มขึ้น 30g**\\n   - **Matched Product:** ทาโร ปลาเส้น 30 กรัม รสเข้มข้น\\n   - **SKU:** 1-GDS-TARO0-000000069\\n   - **Probability:** 0.6 (moderate similarity)\\n\\n4. **ทาโร สาหร่ายเกาหลี 20g**\\n   - **Matched Product:** ทาโร ปลาเส้น 20 กรัม รสสาหร่ายเกาหลี\\n   - **SKU:** 1-GDS-TARO0-000000067\\n   - **Probability:** 0.7 (moderate-high similarity)\\n\\n5. **ทาโรอบกรอบ เข้มข้น 180**\\n   - **Matched Product:** Taro: ทาโร อบกรอบ 18 กรัม รสเข้มข้น\\n   - **SKU:** 1-GDS-TARO0-000000023\\n   - **Probability:** 0.5 (low-moderate similarity)\\n\\n6. **ทาโรอบกรอบ บาร์บีคิว 189**\\n   - **Matched Product:** Taro: ทาโร อบกรอบ 18 กรัม รสบาร์บีคิว\\n   - **SKU:** 1-GDS-TARO0-000000024\\n   - **Probability:** 0.5 (low-moderate similarity)\\n\\n7. **ทาโร บาร์บีคิว 30g**\\n   - **Matched Product:** ทาโร ปลาเส้น 30 กรัม รสบาร์บีคิว\\n   - **SKU:** 1-GDS-TARO0-000000095\\n   - **Probability:** 0.65 (moderate similarity)\\n\\n8. **ตาโซ เข้มข้น 50g**\\n   - **No close match found.**\\n\\n9. **ทาโร บาร์บีคิว 50g**\\n   - **No close match found.**\\n\\n10. **ทาโร ซูเปอร์แซบ 50g**\\n    - **No close match found.**\\n\\n### JSON Output:\\nHere’s the structured output for the matched products:\\n\\n```json\\n[\\n    {\\n        \"vendor_product\": \"ทาโร เข้มข้น 50g\",\\n        \"bzbs_product\": \"ทาโร ปลาเส้น 50 กรัม รสเข้มข้น\",\\n        \"bzbs_sku\": \"1-GDS-TARO0-000000072\",\\n        \"probability\": 0.8\\n    },\\n    {\\n        \"vendor_product\": \"ทาโร ไลท์รสออริจินัล 20g\",\\n        \"bzbs_product\": \"ทาโร ไลท์ 20 กรัม รสออริจินัล\",\\n        \"bzbs_sku\": \"1-GDS-TARO0-000000068\",\\n        \"probability\": 0.85\\n    },\\n    {\\n        \"vendor_product\": \"ทาโร เข้มขึ้น 30g\",\\n        \"bzbs_product\": \"ทาโร ปลาเส้น 30 กรัม รสเข้มข้น\",\\n        \"bzbs_sku\": \"1-GDS-TARO0-000000069\",\\n        \"probability\": 0.6\\n    },\\n    {\\n        \"vendor_product\": \"ทาโร สาหร่ายเกาหลี 20g\",\\n        \"bzbs_product\": \"ทาโร ปลาเส้น 20 กรัม รสสาหร่ายเกาหลี\",\\n        \"bzbs_sku\": \"1-GDS-TARO0-000000067\",\\n        \"probability\": 0.7\\n    },\\n    {\\n        \"vendor_product\": \"ทาโรอบกรอบ เข้มข้น 180\",\\n        \"bzbs_product\": \"Taro: ทาโร อบกรอบ 18 กรัม รสเข้มข้น\",\\n        \"bzbs_sku\": \"1-GDS-TARO0-000000023\",\\n        \"probability\": 0.5\\n    },\\n    {\\n        \"vendor_product\": \"ทาโรอบกรอบ บาร์บีคิว 189\",\\n        \"bzbs_product\": \"Taro: ทาโร อบกรอบ 18 กรัม รสบาร์บีคิว\",\\n        \"bzbs_sku\": \"1-GDS-TARO0-000000024\",\\n        \"probability\": 0.5\\n    },\\n    {\\n        \"vendor_product\": \"ทาโร บาร์บีคิว 30g\",\\n        \"bzbs_product\": \"ทาโร ปลาเส้น 30 กรัม รสบาร์บีคิว\",\\n        \"bzbs_sku\": \"1-GDS-TARO0-000000095\",\\n        \"probability\": 0.65\\n    },\\n    {\\n        \"vendor_product\": \"ตาโซ เข้มข้น 50g\",\\n        \"bzbs_product\": null,\\n        \"bzbs_sku\": null,\\n        \"probability\": null\\n    },\\n    {\\n        \"vendor_product\": \"ทาโร บาร์บีคิว 50g\",\\n        \"bzbs_product\": null,\\n        \"bzbs_sku\": null,\\n        \"probability\": null\\n    },\\n    {\\n        \"vendor_product\": \"ทาโร ซูเปอร์แซบ 50g\",\\n        \"bzbs_product\": null,\\n        \"bzbs_sku\": null,\\n        \"probability\": null\\n    }\\n]\\n```\\n\\nFeel free to ask if you need anything else or further adjustments!'"
      ]
     },
     "execution_count": 46,
     "metadata": {},
     "output_type": "execute_result"
    }
   ],
   "source": [
    "full_response['content'][0]['text']['value']"
   ]
  },
  {
   "cell_type": "code",
   "execution_count": 62,
   "metadata": {},
   "outputs": [
    {
     "data": {
      "text/plain": [
       "'json\\n[\\n    {\\n        \"vendor_product\": \"ทาโร เข้มข้น 50g\",\\n        \"bzbs_product\": \"ทาโร ปลาเส้น 50 กรัม รสเข้มข้น\",\\n        \"bzbs_sku\": \"1-GDS-TARO0-000000072\",\\n        \"probability\": 0.8\\n    },\\n    {\\n        \"vendor_product\": \"ทาโร ไลท์รสออริจินัล 20g\",\\n        \"bzbs_product\": \"ทาโร ไลท์ 20 กรัม รสออริจินัล\",\\n        \"bzbs_sku\": \"1-GDS-TARO0-000000068\",\\n        \"probability\": 0.85\\n    },\\n    {\\n        \"vendor_product\": \"ทาโร เข้มขึ้น 30g\",\\n        \"bzbs_product\": \"ทาโร ปลาเส้น 30 กรัม รสเข้มข้น\",\\n        \"bzbs_sku\": \"1-GDS-TARO0-000000069\",\\n        \"probability\": 0.6\\n    },\\n    {\\n        \"vendor_product\": \"ทาโร สาหร่ายเกาหลี 20g\",\\n        \"bzbs_product\": \"ทาโร ปลาเส้น 20 กรัม รสสาหร่ายเกาหลี\",\\n        \"bzbs_sku\": \"1-GDS-TARO0-000000067\",\\n        \"probability\": 0.7\\n    },\\n    {\\n        \"vendor_product\": \"ทาโรอบกรอบ เข้มข้น 180\",\\n        \"bzbs_product\": \"Taro: ทาโร อบกรอบ 18 กรัม รสเข้มข้น\",\\n        \"bzbs_sku\": \"1-GDS-TARO0-000000023\",\\n        \"probability\": 0.5\\n    },\\n    {\\n        \"vendor_product\": \"ทาโรอบกรอบ บาร์บีคิว 189\",\\n        \"bzbs_product\": \"Taro: ทาโร อบกรอบ 18 กรัม รสบาร์บีคิว\",\\n        \"bzbs_sku\": \"1-GDS-TARO0-000000024\",\\n        \"probability\": 0.5\\n    },\\n    {\\n        \"vendor_product\": \"ทาโร บาร์บีคิว 30g\",\\n        \"bzbs_product\": \"ทาโร ปลาเส้น 30 กรัม รสบาร์บีคิว\",\\n        \"bzbs_sku\": \"1-GDS-TARO0-000000095\",\\n        \"probability\": 0.65\\n    },\\n    {\\n        \"vendor_product\": \"ตาโซ เข้มข้น 50g\",\\n        \"bzbs_product\": null,\\n        \"bzbs_sku\": null,\\n        \"probability\": null\\n    },\\n    {\\n        \"vendor_product\": \"ทาโร บาร์บีคิว 50g\",\\n        \"bzbs_product\": null,\\n        \"bzbs_sku\": null,\\n        \"probability\": null\\n    },\\n    {\\n        \"vendor_product\": \"ทาโร ซูเปอร์แซบ 50g\",\\n        \"bzbs_product\": null,\\n        \"bzbs_sku\": null,\\n        \"probability\": null\\n    }\\n]\\n'"
      ]
     },
     "execution_count": 62,
     "metadata": {},
     "output_type": "execute_result"
    }
   ],
   "source": [
    "response_value = full_response['content'][0]['text']['value']\n",
    "response_value.split('```')[1]"
   ]
  },
  {
   "cell_type": "code",
   "execution_count": 63,
   "metadata": {},
   "outputs": [
    {
     "data": {
      "text/plain": [
       "[{'vendor_product': 'ทาโร เข้มข้น 50g',\n",
       "  'bzbs_product': 'ทาโร ปลาเส้น 50 กรัม รสเข้มข้น',\n",
       "  'bzbs_sku': '1-GDS-TARO0-000000072',\n",
       "  'probability': 0.8},\n",
       " {'vendor_product': 'ทาโร ไลท์รสออริจินัล 20g',\n",
       "  'bzbs_product': 'ทาโร ไลท์ 20 กรัม รสออริจินัล',\n",
       "  'bzbs_sku': '1-GDS-TARO0-000000068',\n",
       "  'probability': 0.85},\n",
       " {'vendor_product': 'ทาโร เข้มขึ้น 30g',\n",
       "  'bzbs_product': 'ทาโร ปลาเส้น 30 กรัม รสเข้มข้น',\n",
       "  'bzbs_sku': '1-GDS-TARO0-000000069',\n",
       "  'probability': 0.6}]"
      ]
     },
     "execution_count": 63,
     "metadata": {},
     "output_type": "execute_result"
    }
   ],
   "source": [
    "json_str = response_value.split('```')[1].replace('\\n', '').replace('json', '')\n",
    "json_response = json.loads(json_str)\n",
    "json_response[0:3]"
   ]
  },
  {
   "cell_type": "code",
   "execution_count": 65,
   "metadata": {},
   "outputs": [],
   "source": [
    "def extract_json(response):\n",
    "    return json.loads(response.split('```')[1].replace('\\n', '').replace('json', ''))"
   ]
  },
  {
   "cell_type": "markdown",
   "metadata": {},
   "source": [
    "### REQUEST MATCHING DATA"
   ]
  },
  {
   "cell_type": "markdown",
   "metadata": {},
   "source": [
    "**CREATE PROMPT**"
   ]
  },
  {
   "cell_type": "code",
   "execution_count": 29,
   "metadata": {},
   "outputs": [
    {
     "name": "stdout",
     "output_type": "stream",
     "text": [
      "\n",
      "                Here is the invoice data that is read from vendor invoice:\n",
      "                -- VENDOR DATA STARTS HERE --\n",
      "\n",
      "                vendor_data\n",
      "\n",
      "                -- VENDOR DATA ENDS HERE --\n",
      "\n",
      "                And, here is the product data from Buzzebees database:\n",
      "                -- BUZZEBEES DATA STARTS HERE --\n",
      "\n",
      "                bzbs_data\n",
      "\n",
      "                -- BUZZEBEES DATA ENDS HERE --\n",
      "\n",
      "                Please provide the matching result in JSON format.\n",
      "                \n"
     ]
    }
   ],
   "source": [
    "from prompt import GetPrompt\n",
    "\n",
    "default_prompt = GetPrompt('vendor_data', 'bzbs_data').prompt\n",
    "print(default_prompt)"
   ]
  },
  {
   "cell_type": "markdown",
   "metadata": {},
   "source": [
    "**MAIN FUNCTION**"
   ]
  },
  {
   "cell_type": "code",
   "execution_count": 64,
   "metadata": {},
   "outputs": [],
   "source": [
    "def request_match(vendor_data : str, bzbs_data : str, params=params, headers=headers):\n",
    "    \n",
    "    prompt = GetPrompt(vendor_data, bzbs_data).prompt\n",
    "    \n",
    "    add_messages(messages=prompt)\n",
    "\n",
    "    runs_thread()\n",
    "\n",
    "    response = get_chat_history()[\"data\"][0][\"content\"][0]['text']['value']\n",
    "\n",
    "    result = extract_json(response)\n",
    "\n",
    "    return result"
   ]
  }
 ],
 "metadata": {
  "kernelspec": {
   "display_name": "Python 3",
   "language": "python",
   "name": "python3"
  },
  "language_info": {
   "codemirror_mode": {
    "name": "ipython",
    "version": 3
   },
   "file_extension": ".py",
   "mimetype": "text/x-python",
   "name": "python",
   "nbconvert_exporter": "python",
   "pygments_lexer": "ipython3",
   "version": "3.12.2"
  }
 },
 "nbformat": 4,
 "nbformat_minor": 2
}
